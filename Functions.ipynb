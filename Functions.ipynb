{
  "nbformat": 4,
  "nbformat_minor": 0,
  "metadata": {
    "colab": {
      "provenance": []
    },
    "kernelspec": {
      "name": "python3",
      "display_name": "Python 3"
    },
    "language_info": {
      "name": "python"
    }
  },
  "cells": [
    {
      "cell_type": "markdown",
      "source": [
        "Theory -\n",
        "1. What is the difference between a function and a method in Python?\n",
        "\n",
        "Ans: A function is defined using def keyword and it can be called independently using function name.\n",
        "Eg:\n",
        "def func():\n",
        " pass\n",
        "\n",
        "fun()\n",
        "\n",
        "A method is a function inside the class it can be operated using objects.\n",
        "Eg:\n",
        "class A:\n",
        " def func(self):\n",
        "   pass\n",
        "\n",
        "obj=A()\n",
        "obj.func()\n",
        "\n",
        "2. Explain the concept of function arguments and parameters in Python?\n",
        "\n",
        "Ans: Function parameter means variables which holds the address of the value in function definition\n",
        "Eg: def func(a):\n",
        "    return a\n",
        "\n",
        "Function arguments means values in function definition.\n",
        "Eg: func(10)\n",
        "\n",
        "3. What are the different ways to define and call a function in Python?\n",
        "\n",
        "Ans: The different ways to define using lambda, regular function and generator.\n",
        "\n",
        "Eg using regular function ->\n",
        "\n",
        "def add(a,b):\n",
        "  return a+b\n",
        "\n",
        "add(10,13) #23\n",
        "\n",
        "Eg using lambda ->\n",
        "\n",
        "add=lambda x,y:x+y\n",
        "add(10,13) #23\n",
        "\n",
        "Eg using generator ->\n",
        "\n",
        "def add(a)\n",
        "  for i in a:\n",
        "  yield i+10\n",
        "\n",
        "f=add([12,32,42,44])\n",
        "print(next(f))\n",
        "print(next(f))\n",
        "\n",
        "4. What is the purpose of the `return` statement in a Python function?\n",
        "\n",
        "Ans: return will send the output of the function to the caller\n",
        "\n",
        "Eg: def func(a):\n",
        "return a*a\n",
        "\n",
        "func(10)\n",
        "\n",
        "5. What are iterators in Python and how do they differ from iterables?\n",
        "\n",
        "Ans: iterators are nothing but the data which can be iterated like list,tupples etc .iterators use iter keyword for iteration and using next keyword we can access the data one by one.\n",
        "\n",
        "Eg:i= iter([102,7,89,\"ndh\",87])\n",
        "print(next(i))\n",
        "print(next(i))\n",
        "\n",
        "iterable is an python object/squential string/data structure that is capable of returning its members/elements one at a time\n",
        "permiting it to be iterable in for loop . eg: string,tuple,lists etc\n",
        "\n",
        "Eg: li=[10,23,876,\"dhh\",99]\n",
        "for i in li:\n",
        " print(i)\n",
        "\n",
        "\n",
        "6. Explain the concept of generators in Python and how they are defined?\n",
        "\n",
        "Ans: generators is same as return they provides the output one by one .were as return provides all the output at a time .but generator provides one by one using yield keyword and it uses less memory then return.\n",
        "\n",
        "eg: def fun():\n",
        "  for i in range(1,11):\n",
        "    yield i\n",
        "\n",
        "a=fun()\n",
        "print(next(a))\n",
        "print(next(a))\n",
        "\n",
        "7. What are the advantages of using generators over regular functions?\n",
        "\n",
        "Ans: generators use less memory compared to regular function , and it uses less time to execute .\n",
        "it returns data one by one\n",
        "\n",
        "eg: def fun():\n",
        "  for i in range(1,11):\n",
        "    yield i\n",
        "\n",
        "a=fun()\n",
        "print(next(a))\n",
        "print(next(a))\n",
        "\n",
        "8. What is a lambda function in Python and when is it typically used?\n",
        "\n",
        "Ans: lambda function is an type of function it uses lambda keyword to create an function. it won't use def and return keyword in it and it is one line function . it is an ananomy function and also called as shorthand function\n",
        "\n",
        "Eg: lm=lambda x:x*x\n",
        "\n",
        "lm(10)\n",
        "\n",
        "9. Explain the purpose and usage of the `map()` function in Python?\n",
        "\n",
        "Ans: Map function executes the function iteratively .\n",
        "\n",
        "Eg: def add(n):\n",
        "  return n+10\n",
        "\n",
        "list(map(add,[1,2,40])) #takes each element and perform\n",
        "\n",
        "10. What is the difference between `map()`, `reduce()`, and `filter()` functions in Python?\n",
        "\n",
        "Ans: Map function executes the function iteratively .\n",
        "\n",
        "Eg: def add(n):\n",
        "  return n+10\n",
        "\n",
        "list(map(add,[1,2,40]))\n",
        "\n",
        "Reduce function will fold the data . it is used only if we have iteration data. we need to import reduce from functools to use it. it takes two arguments\n",
        "\n",
        "Eg: import reduce from functools\n",
        "print(reduce(lambda a,b:a+b, [10,20,30]))\n",
        "\n",
        "Filter function will filter the iteration data according and returns the filtered data.\n",
        "\n",
        "Eg: def le(a):\n",
        "  if len(a) > 5:\n",
        "    return a\n",
        "\n",
        "list(filter(le,([\"data\",\"science\",\"pwskills\"])))\n",
        "\n",
        "\n",
        "11. Using pen & Paper write the internal mechanism for sum operation using  reduce function on this given\n",
        "list:[47,11,42,13]?\n",
        "\n",
        "Answer as been attached in doc\n",
        "\n",
        "\n",
        "\n"
      ],
      "metadata": {
        "id": "_A-Y_3KLkzSY"
      }
    },
    {
      "cell_type": "code",
      "execution_count": null,
      "metadata": {
        "colab": {
          "base_uri": "https://localhost:8080/"
        },
        "id": "nC0njkbdkwtc",
        "outputId": "17faecb3-2188-4d8c-c029-14a13290514f"
      },
      "outputs": [
        {
          "output_type": "execute_result",
          "data": {
            "text/plain": [
              "252"
            ]
          },
          "metadata": {},
          "execution_count": 2
        }
      ],
      "source": [
        "#practicals\n",
        "\n",
        "# #1. Write a Python function that takes a list of numbers as input and returns the sum of all even numbers in\n",
        "# the list?\n",
        "\n",
        "def func(li):\n",
        "  sum=0\n",
        "  for i in li:\n",
        "    if i %2==0:\n",
        "      sum=sum+i\n",
        "  return sum\n",
        "\n",
        "func([22,45,67,88,98,65,44])\n",
        "\n"
      ]
    },
    {
      "cell_type": "code",
      "source": [
        "#2. Create a Python function that accepts a string and returns the reverse of that string.\n",
        "\n",
        "def func(s):\n",
        "  return s[::-1]\n",
        "\n",
        "func(\"pwskills\")"
      ],
      "metadata": {
        "colab": {
          "base_uri": "https://localhost:8080/",
          "height": 35
        },
        "id": "hcMH4GGx2iEx",
        "outputId": "fadf400b-3508-4b63-f631-526ac30c258d"
      },
      "execution_count": null,
      "outputs": [
        {
          "output_type": "execute_result",
          "data": {
            "text/plain": [
              "'sllikswp'"
            ],
            "application/vnd.google.colaboratory.intrinsic+json": {
              "type": "string"
            }
          },
          "metadata": {},
          "execution_count": 3
        }
      ]
    },
    {
      "cell_type": "code",
      "source": [
        "#3. Implement a Python function that takes a list of integers and returns a new list containing the squares of\n",
        "# each number\n",
        "\n",
        "def sq(l1):\n",
        "  l2=[]\n",
        "  for i in l1:\n",
        "    l2.append(i**2)\n",
        "  return l2\n",
        "\n",
        "sq([1,2,3,4,5])\n"
      ],
      "metadata": {
        "colab": {
          "base_uri": "https://localhost:8080/"
        },
        "id": "7xrut7enzke8",
        "outputId": "9ff28509-d0d4-4f60-a94a-89d45c86263c"
      },
      "execution_count": null,
      "outputs": [
        {
          "output_type": "execute_result",
          "data": {
            "text/plain": [
              "[1, 4, 9, 16, 25]"
            ]
          },
          "metadata": {},
          "execution_count": 6
        }
      ]
    },
    {
      "cell_type": "code",
      "source": [
        "#4. Write a Python function that checks if a given number is prime or not from 1 to 200.\n",
        "\n",
        "def check_primes():\n",
        "\n",
        "    for num in range(1,201):\n",
        "        if is_prime(num):\n",
        "            print(f\"{num} is a prime number.\")\n",
        "\n",
        "def is_prime(number):\n",
        "    if number < 2:\n",
        "        return False\n",
        "    for i in range(2, int(number**0.5) + 1):\n",
        "        if number % i == 0:\n",
        "            return False\n",
        "    return True\n",
        "\n",
        "\n",
        "\n",
        "check_primes()\n",
        "\n"
      ],
      "metadata": {
        "id": "VsTYrMpn3J50",
        "colab": {
          "base_uri": "https://localhost:8080/"
        },
        "outputId": "42fd87e0-5c87-4c41-92cb-d6f60245e3d4"
      },
      "execution_count": 42,
      "outputs": [
        {
          "output_type": "stream",
          "name": "stdout",
          "text": [
            "2 is a prime number.\n",
            "3 is a prime number.\n",
            "5 is a prime number.\n",
            "7 is a prime number.\n",
            "11 is a prime number.\n",
            "13 is a prime number.\n",
            "17 is a prime number.\n",
            "19 is a prime number.\n",
            "23 is a prime number.\n",
            "29 is a prime number.\n",
            "31 is a prime number.\n",
            "37 is a prime number.\n",
            "41 is a prime number.\n",
            "43 is a prime number.\n",
            "47 is a prime number.\n",
            "53 is a prime number.\n",
            "59 is a prime number.\n",
            "61 is a prime number.\n",
            "67 is a prime number.\n",
            "71 is a prime number.\n",
            "73 is a prime number.\n",
            "79 is a prime number.\n",
            "83 is a prime number.\n",
            "89 is a prime number.\n",
            "97 is a prime number.\n",
            "101 is a prime number.\n",
            "103 is a prime number.\n",
            "107 is a prime number.\n",
            "109 is a prime number.\n",
            "113 is a prime number.\n",
            "127 is a prime number.\n",
            "131 is a prime number.\n",
            "137 is a prime number.\n",
            "139 is a prime number.\n",
            "149 is a prime number.\n",
            "151 is a prime number.\n",
            "157 is a prime number.\n",
            "163 is a prime number.\n",
            "167 is a prime number.\n",
            "173 is a prime number.\n",
            "179 is a prime number.\n",
            "181 is a prime number.\n",
            "191 is a prime number.\n",
            "193 is a prime number.\n",
            "197 is a prime number.\n",
            "199 is a prime number.\n"
          ]
        }
      ]
    },
    {
      "cell_type": "code",
      "source": [
        "#  5. Create an iterator class in Python that generates the Fibonacci sequence up to a specified number of\n",
        "# terms.\n",
        "\n",
        "\n",
        "class Fibo:\n",
        "    def __init__(self, n):\n",
        "        self.n = n\n",
        "        self.a = 0\n",
        "        self.b = 1\n",
        "        self.count = 0\n",
        "\n",
        "    def __iter__(self):\n",
        "        return self\n",
        "\n",
        "    def __next__(self):\n",
        "        if self.count < self.n:\n",
        "            result = self.a\n",
        "            self.a, self.b = self.b, self.a + self.b\n",
        "            self.count += 1\n",
        "            return result\n",
        "        else:\n",
        "            raise StopIteration\n",
        "\n",
        "fibonacci = Fibo(5)\n",
        "a=iter(fibonacci)\n",
        "print(next(a))\n",
        "print(next(a))\n",
        "print(next(a))\n",
        "print(next(a))\n",
        "print(next(a))"
      ],
      "metadata": {
        "colab": {
          "base_uri": "https://localhost:8080/"
        },
        "id": "pnKzAPjaeHb3",
        "outputId": "3f7bb4be-e836-4c86-f2ae-ae3f3e626721"
      },
      "execution_count": 28,
      "outputs": [
        {
          "output_type": "stream",
          "name": "stdout",
          "text": [
            "0\n",
            "1\n",
            "1\n",
            "2\n",
            "3\n"
          ]
        }
      ]
    },
    {
      "cell_type": "code",
      "source": [
        "# 6. Write a generator function in Python that yields the powers of 2 up to a given exponent.\n",
        "\n",
        "def gen(num):\n",
        "  for i in range(num+1):\n",
        "    yield i**2\n",
        "\n",
        "g=gen(4)\n",
        "\n",
        "print(next(g))\n",
        "print(next(g))\n",
        "print(next(g))\n",
        "print(next(g))\n",
        "print(next(g))\n"
      ],
      "metadata": {
        "colab": {
          "base_uri": "https://localhost:8080/"
        },
        "id": "dE7lErhugaIa",
        "outputId": "835787ba-d9f4-435a-da01-9b0c7a9703d3"
      },
      "execution_count": 22,
      "outputs": [
        {
          "output_type": "stream",
          "name": "stdout",
          "text": [
            "0\n",
            "1\n",
            "4\n",
            "9\n",
            "16\n"
          ]
        }
      ]
    },
    {
      "cell_type": "code",
      "source": [
        "# 7. Implement a generator function that reads a file line by line and yields each line as a string.\n",
        "\n",
        "def file_reader(filepath):\n",
        "\n",
        "    try:\n",
        "        with open(filepath, 'r') as file:\n",
        "            for line in file:\n",
        "                yield line.strip()  # Remove leading/trailing whitespace\n",
        "    except FileNotFoundError:\n",
        "        yield \"Error: File not found.\"\n",
        "\n",
        "file_path = '/content/sample_data/test.txt'\n",
        "\n",
        "for line in file_reader(file_path):\n",
        "  print(line)\n",
        ""
      ],
      "metadata": {
        "colab": {
          "base_uri": "https://localhost:8080/"
        },
        "id": "r2MHJ_K8j-oJ",
        "outputId": "8ae3ece2-e2f5-4224-dd02-23a03bf866ec"
      },
      "execution_count": 57,
      "outputs": [
        {
          "output_type": "stream",
          "name": "stdout",
          "text": [
            "PW skills is an good\n",
            "platform to learn data science\n",
            "course\n",
            "am loving the course\n"
          ]
        }
      ]
    },
    {
      "cell_type": "code",
      "source": [
        "# 8. Use a lambda function in Python to sort a list of tuples based on the second element of each tuple.\n",
        "\n",
        "li=[(\"mango\",89),(\"orange\",80), (\"grapes\", 1000)]\n",
        "li.sort(key=lambda x:x[1])\n",
        "print(li)\n",
        "\n"
      ],
      "metadata": {
        "colab": {
          "base_uri": "https://localhost:8080/"
        },
        "id": "rcMJuxRTpuOk",
        "outputId": "888072cb-11de-4707-e9d1-2894d83a00ba"
      },
      "execution_count": 107,
      "outputs": [
        {
          "output_type": "stream",
          "name": "stdout",
          "text": [
            "[('orange', 80), ('mango', 89), ('grapes', 1000)]\n"
          ]
        }
      ]
    },
    {
      "cell_type": "code",
      "source": [
        "# 9. Write a Python program that uses `map()` to convert a list of temperatures from Celsius to Fahrenheit.\n",
        "def celsius_to_fahrenheit(celsius):\n",
        "  return (celsius * 9/5) + 32\n",
        "\n",
        "celsius_temperatures = [0, 10, 20, 30, 40]\n",
        "fahrenheit_temperatures = list(map(celsius_to_fahrenheit, celsius_temperatures))\n",
        "fahrenheit_temperatures"
      ],
      "metadata": {
        "colab": {
          "base_uri": "https://localhost:8080/"
        },
        "id": "RRMNdAuesByh",
        "outputId": "095ae977-a0f8-4999-918c-7fb2f6a29eaf"
      },
      "execution_count": 74,
      "outputs": [
        {
          "output_type": "execute_result",
          "data": {
            "text/plain": [
              "[32.0, 50.0, 68.0, 86.0, 104.0]"
            ]
          },
          "metadata": {},
          "execution_count": 74
        }
      ]
    },
    {
      "cell_type": "code",
      "source": [
        "# 10. Create a Python program that uses `filter()` to remove all the vowels from a given string.\n",
        "\n",
        "print(list(filter(lambda x:False if x in \"aeiouAEIOU\" else x,\"data science\")))"
      ],
      "metadata": {
        "colab": {
          "base_uri": "https://localhost:8080/"
        },
        "id": "Sm-pZa-ss4lE",
        "outputId": "28621f37-fd7c-4926-e1fa-31396372b954"
      },
      "execution_count": 94,
      "outputs": [
        {
          "output_type": "stream",
          "name": "stdout",
          "text": [
            "['d', 't', ' ', 's', 'c', 'n', 'c']\n"
          ]
        }
      ]
    },
    {
      "cell_type": "code",
      "source": [
        "#11) Imagine an accounting routine used in a book shop. It works on a list with sublists, which look like this:\n",
        "#  Write a Python program, which returns a list with 2-tuples. Each tuple consists of the order number and the\n",
        "# product of the price per item and the quantity. The product should be increased by 10,- € if the value of the\n",
        "# order is smaller than 100,00 €.\n",
        "#  Write a Python program using lambda and map.\n",
        "\n",
        "order=[[34587,\"Learning python ,Mark Lutz\",4,40.95],[98762,\"Programming python,Mark Lutz\",5,56.80],[77226,\"Head First Python,Paul Barry\",3,32.95],[88112,\"Einfuhrung in Python3,Bernd Klien\",3,24.99]]\n",
        "\n",
        "print(list(map(lambda x:(x[0],x[2] * x[3] if x[2] * x[3] >=100 else x[2]*x[3] +10),order)))"
      ],
      "metadata": {
        "colab": {
          "base_uri": "https://localhost:8080/"
        },
        "id": "-CQ58CD6vYZZ",
        "outputId": "0ea8a2c6-3381-4f4b-f482-05464c23ba6f"
      },
      "execution_count": 105,
      "outputs": [
        {
          "output_type": "stream",
          "name": "stdout",
          "text": [
            "[4, 4, 4, 4]\n",
            "[(34587, 163.8), (98762, 284.0), (77226, 108.85000000000001), (88112, 84.97)]\n"
          ]
        }
      ]
    }
  ]
}